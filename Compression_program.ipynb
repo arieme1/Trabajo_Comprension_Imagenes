{
 "cells": [
  {
   "cell_type": "code",
   "execution_count": 2,
   "metadata": {},
   "outputs": [],
   "source": [
    "import pywt # pip install pywavelets\n",
    "import numpy as np\n",
    "from PIL import Image\n",
    "import matplotlib.pyplot as plt"
   ]
  },
  {
   "cell_type": "markdown",
   "metadata": {},
   "source": [
    "La compresión de imágenes por wavelets es un proceso que utiliza la transformada wavelet discreta 2D para descomponer una imagen en diferentes frecuencias y direcciones. La transformada wavelet discreta 2D se realiza utilizando una familia de wavelets, como `haar`, `db1`, `sym2` o `coif5`. Los coeficientes resultantes se comprimen mediante un umbral suave y se utilizan para reconstruir la imagen comprimida.\n",
    "\n",
    "El parámetro `wavelet_family` se utiliza para especificar la familia de wavelets a utilizar. Algunas familias populares incluyen `haar`, `db1`, `sym2` y `coif5`. El parámetro `threshold` se utiliza para establecer el valor del umbral suave utilizado para comprimir los coeficientes wavelet. Los coeficientes cuyo valor absoluto es menor que el umbral se establecen en cero, mientras que los coeficientes cuyo valor absoluto es mayor que el umbral se mantienen sin cambios. El parámetro `filter` se utiliza para especificar el tipo de filtro utilizado para la descomposición wavelet.\n",
    "\n",
    "El proceso de compresión de imágenes por wavelets implica los siguientes pasos:\n",
    "\n",
    "1. Cargar la imagen original.\n",
    "2. Realizar una transformada wavelet discreta 2D en la imagen utilizando una familia de wavelets especificada.\n",
    "3. Comprimir los coeficientes resultantes mediante un umbral suave.\n",
    "4. Reconstruir la imagen comprimida utilizando los coeficientes comprimidos.\n",
    "5. Visualizar la imagen original y la imagen comprimida.\n",
    "\n",
    "La compresión de imágenes por wavelets puede ser utilizada para reducir el tamaño de las imágenes digitales sin perder demasiada información visual. Sin embargo, es importante tener en cuenta que la calidad de la imagen comprimida depende del valor del umbral suave utilizado y de la familia de wavelets seleccionada.\n",
    "\n",
    "(1) Uso de la Transformada de Wavelet para la compresión de imágenes .... http://lcr.uns.edu.ar/fvc/NotasDeAplicacion/FVC-Gonzalo%20D%20Acosta.pdf.\n",
    "(2) Compresión de imágenes con Wavelets y Multiwavelets - Redalyc. https://www.redalyc.org/articulo.oa?id=498850160008.\n",
    "(3) Tratamiento de imágenes digitales mediante wavelets. http://personales.upv.es/aperis/wavelets/imagenes/indice.htm.\n",
    "(4) Compresión de imágenes Haar Wavelet - Studocu. https://www.studocu.com/es-mx/document/universidad-autonoma-de-coahuila/algebra-lineal/compresion-de-imagenes-haar-wavelet/3068260.\n",
    "(5) Compresión de Imágenes Fijas utilizando la Trasformada Wavelet - CORE. https://core.ac.uk/download/pdf/15780665.pdf.\n",
    "(6) Single-level 2-D discrete wavelet transform - MATLAB dwt2 - MathWorks. https://www.mathworks.com/help/wavelet/ref/dwt2.html.\n",
    "(7) Filters (Wavelet): Thresholding - MIPAV - National Institutes of Health. https://mipav.cit.nih.gov/pubwiki/index.php/Filters_%28Wavelet%29:_Thresholding.\n",
    "(8) python - How to find threshold value and which wavelet family to use .... https://stackoverflow.com/questions/59886413/how-to-find-threshold-value-and-which-wavelet-family-to-use-for-low-pass-filter."
   ]
  },
  {
   "cell_type": "code",
   "execution_count": 4,
   "metadata": {},
   "outputs": [],
   "source": [
    "def compress_image(image_path, wavelet_family):\n",
    "    # Load the image\n",
    "    image = Image.open(image_path).convert('L')\n",
    "    # Convert the image to a numpy array\n",
    "    image_array = np.array(image)\n",
    "    # Decompose the image using the specified wavelet family\n",
    "    coeffs = pywt.dwt2(image_array, wavelet_family)\n",
    "    # Discard some of the coefficients to compress the image\n",
    "    compressed_coeffs = [pywt.threshold(i, value = 5, mode='garrote') for i in coeffs] #th dfault value = 0.1, mode dfault value = soft\n",
    "    # Reconstruct the compressed image\n",
    "    compressed_image = pywt.idwt2(compressed_coeffs, wavelet_family)\n",
    "    # Convert the numpy array back to an image\n",
    "    compressed_image = Image.fromarray(np.uint8(compressed_image))\n",
    "    return compressed_image\n",
    "\n",
    "# Example usage:\n",
    "image_path = 'data/Lena.png'\n",
    "wavelet_family = 'haar'\n",
    "compressed_image = compress_image(image_path, wavelet_family)\n",
    "compressed_image.show()\n",
    "compressed_image.save(\"./data/Lena_comp_haar_th_5_mode_garrote_filter_LoD.png\",\"PNG\")"
   ]
  }
 ],
 "metadata": {
  "kernelspec": {
   "display_name": "Python 3",
   "language": "python",
   "name": "python3"
  },
  "language_info": {
   "codemirror_mode": {
    "name": "ipython",
    "version": 3
   },
   "file_extension": ".py",
   "mimetype": "text/x-python",
   "name": "python",
   "nbconvert_exporter": "python",
   "pygments_lexer": "ipython3",
   "version": "3.11.3"
  }
 },
 "nbformat": 4,
 "nbformat_minor": 2
}

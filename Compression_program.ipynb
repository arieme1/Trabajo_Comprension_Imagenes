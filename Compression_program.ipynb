{
 "cells": [
  {
   "cell_type": "code",
   "execution_count": 7,
   "metadata": {},
   "outputs": [],
   "source": [
    "import pywt\n",
    "import numpy as np\n",
    "from PIL import Image\n",
    "import matplotlib.pyplot as plt"
   ]
  },
  {
   "cell_type": "code",
   "execution_count": 6,
   "metadata": {},
   "outputs": [],
   "source": [
    "def compress_image(image_path, wavelet_family):\n",
    "    # Load the image\n",
    "    image = Image.open(image_path).convert('L')\n",
    "    # Convert the image to a numpy array\n",
    "    image_array = np.array(image)\n",
    "    # Decompose the image using the specified wavelet family\n",
    "    coeffs = pywt.dwt2(image_array, wavelet_family)\n",
    "    # Discard some of the coefficients to compress the image\n",
    "    compressed_coeffs = [pywt.threshold(i, value=5, mode='garrote') for i in coeffs] #th dfault value = 0.1, mode dfault value = soft\n",
    "    # Reconstruct the compressed image\n",
    "    compressed_image = pywt.idwt2(compressed_coeffs, wavelet_family)\n",
    "    # Convert the numpy array back to an image\n",
    "    compressed_image = Image.fromarray(np.uint8(compressed_image))\n",
    "    return compressed_image\n",
    "\n",
    "# Example usage:\n",
    "image_path = 'data/Lena.png'\n",
    "wavelet_family = 'haar'\n",
    "compressed_image = compress_image(image_path, wavelet_family)\n",
    "compressed_image.show()\n",
    "compressed_image.save(\"./data/Lena_comp_haar_th_5_mode_garrote.png\",\"PNG\")"
   ]
  }
 ],
 "metadata": {
  "kernelspec": {
   "display_name": "Python 3",
   "language": "python",
   "name": "python3"
  },
  "language_info": {
   "codemirror_mode": {
    "name": "ipython",
    "version": 3
   },
   "file_extension": ".py",
   "mimetype": "text/x-python",
   "name": "python",
   "nbconvert_exporter": "python",
   "pygments_lexer": "ipython3",
   "version": "3.10.7"
  }
 },
 "nbformat": 4,
 "nbformat_minor": 2
}
